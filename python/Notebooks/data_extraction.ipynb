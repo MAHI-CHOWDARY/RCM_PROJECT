{
 "cells": [
  {
   "cell_type": "code",
   "execution_count": 56,
   "id": "c6767312",
   "metadata": {},
   "outputs": [],
   "source": [
    "import mysql.connector\n",
    "import pandas as pd\n",
    "import json\n",
    "import time\n",
    "\n",
    "class DataExtractor:\n",
    "    def __init__(self, config_path):\n",
    "        with open(config_path, 'r') as f:\n",
    "            self.db_config = json.load(f)  # load MySQL credentials\n",
    "\n",
    "    def extract_patient_data(self, hospital_key):\n",
    "        return self._extract_table(hospital_key, \"patients\")  # full table\n",
    "\n",
    "    def extract_transaction_data(self, hospital_key, start_date=None, end_date=None):\n",
    "        query = \"SELECT * FROM transactions\"\n",
    "        if start_date and end_date:\n",
    "            query += f\" WHERE PaidDate BETWEEN '{start_date}' AND '{end_date}'\"\n",
    "        return self._extract_query(hospital_key, query)\n",
    "\n",
    "    def _extract_table(self, hospital_key, table_name):\n",
    "        query = f\"SELECT * FROM {table_name}\"\n",
    "        return self._extract_query(hospital_key, query)\n",
    "\n",
    "    def _extract_query(self, hospital_key, query):\n",
    "        creds = self.db_config[hospital_key]\n",
    "        try:\n",
    "            start = time.time()\n",
    "            conn = mysql.connector.connect(**creds)\n",
    "            df = pd.read_sql(query, conn)  # read into pandas DataFrame\n",
    "            conn.close()\n",
    "            end = time.time()\n",
    "            print(f\"{hospital_key}: Extracted {len(df)} records in {end - start:.2f}s\")\n",
    "            return df\n",
    "        except Exception as e:\n",
    "            print(f\" {hospital_key}: Extraction failed\\nError: {e}\")\n",
    "            return pd.DataFrame()  # return empty DataFrame if error\n"
   ]
  },
  {
   "cell_type": "code",
   "execution_count": 57,
   "id": "67619fa6",
   "metadata": {},
   "outputs": [],
   "source": [
    "extractor = DataExtractor(\"../config/db_config.json\")"
   ]
  },
  {
   "cell_type": "code",
   "execution_count": 58,
   "id": "d83a191d",
   "metadata": {},
   "outputs": [
    {
     "name": "stderr",
     "output_type": "stream",
     "text": [
      "C:\\Users\\91767\\AppData\\Local\\Temp\\ipykernel_1192\\1198875622.py:29: UserWarning: pandas only supports SQLAlchemy connectable (engine/connection) or database string URI or sqlite3 DBAPI2 connection. Other DBAPI2 objects are not tested. Please consider using SQLAlchemy.\n",
      "  df = pd.read_sql(query, conn)  # read into pandas DataFrame\n"
     ]
    },
    {
     "name": "stdout",
     "output_type": "stream",
     "text": [
      "hospital_a: Extracted 5000 records in 1.87s\n",
      "<class 'pandas.core.frame.DataFrame'>\n",
      "RangeIndex: 5000 entries, 0 to 4999\n",
      "Data columns (total 10 columns):\n",
      " #   Column        Non-Null Count  Dtype \n",
      "---  ------        --------------  ----- \n",
      " 0   PatientID     5000 non-null   object\n",
      " 1   FirstName     5000 non-null   object\n",
      " 2   LastName      5000 non-null   object\n",
      " 3   MiddleName    5000 non-null   object\n",
      " 4   SSN           5000 non-null   object\n",
      " 5   PhoneNumber   5000 non-null   object\n",
      " 6   Gender        5000 non-null   object\n",
      " 7   DOB           5000 non-null   object\n",
      " 8   Address       5000 non-null   object\n",
      " 9   ModifiedDate  5000 non-null   object\n",
      "dtypes: object(10)\n",
      "memory usage: 390.8+ KB\n",
      "      PatientID FirstName LastName MiddleName          SSN  \\\n",
      "0  HOSP1-000001      Rick    Russo          U  188-23-9828   \n",
      "1  HOSP1-000002   Gregory   Graham          B  730-45-8217   \n",
      "\n",
      "            PhoneNumber  Gender         DOB  \\\n",
      "0  +1-630-829-7585x0769  Female  1937-06-04   \n",
      "1    456.746.7289x69233  Female  1937-06-10   \n",
      "\n",
      "                                     Address ModifiedDate  \n",
      "0           Unit 0915 Box 7064, DPO AA 82777   2020-05-25  \n",
      "1  9864 Gibson Islands, Danielside, KY 99809   2021-06-05  \n"
     ]
    }
   ],
   "source": [
    "patients_a = extractor.extract_patient_data(\"hospital_a\")\n",
    "\n",
    "patients_a.info()\n",
    "print(patients_a.head(2))"
   ]
  },
  {
   "cell_type": "code",
   "execution_count": 59,
   "id": "0e34124c",
   "metadata": {},
   "outputs": [
    {
     "name": "stderr",
     "output_type": "stream",
     "text": [
      "C:\\Users\\91767\\AppData\\Local\\Temp\\ipykernel_1192\\1198875622.py:29: UserWarning: pandas only supports SQLAlchemy connectable (engine/connection) or database string URI or sqlite3 DBAPI2 connection. Other DBAPI2 objects are not tested. Please consider using SQLAlchemy.\n",
      "  df = pd.read_sql(query, conn)  # read into pandas DataFrame\n"
     ]
    },
    {
     "name": "stdout",
     "output_type": "stream",
     "text": [
      "hospital_a: Extracted 10000 records in 1.19s\n"
     ]
    },
    {
     "data": {
      "text/html": [
       "<div>\n",
       "<style scoped>\n",
       "    .dataframe tbody tr th:only-of-type {\n",
       "        vertical-align: middle;\n",
       "    }\n",
       "\n",
       "    .dataframe tbody tr th {\n",
       "        vertical-align: top;\n",
       "    }\n",
       "\n",
       "    .dataframe thead th {\n",
       "        text-align: right;\n",
       "    }\n",
       "</style>\n",
       "<table border=\"1\" class=\"dataframe\">\n",
       "  <thead>\n",
       "    <tr style=\"text-align: right;\">\n",
       "      <th></th>\n",
       "      <th>TransactionID</th>\n",
       "      <th>EncounterID</th>\n",
       "      <th>PatientID</th>\n",
       "      <th>ProviderID</th>\n",
       "      <th>DeptID</th>\n",
       "      <th>VisitDate</th>\n",
       "      <th>ServiceDate</th>\n",
       "      <th>PaidDate</th>\n",
       "      <th>VisitType</th>\n",
       "      <th>Amount</th>\n",
       "      <th>...</th>\n",
       "      <th>PaidAmount</th>\n",
       "      <th>ClaimID</th>\n",
       "      <th>PayorID</th>\n",
       "      <th>ProcedureCode</th>\n",
       "      <th>ICDCode</th>\n",
       "      <th>LineOfBusiness</th>\n",
       "      <th>MedicaidID</th>\n",
       "      <th>MedicareID</th>\n",
       "      <th>InsertDate</th>\n",
       "      <th>ModifiedDate</th>\n",
       "    </tr>\n",
       "  </thead>\n",
       "  <tbody>\n",
       "    <tr>\n",
       "      <th>0</th>\n",
       "      <td>TRANS000001</td>\n",
       "      <td>ENC001204</td>\n",
       "      <td>HOSP1-002372</td>\n",
       "      <td>PROV0456</td>\n",
       "      <td>DEPT002</td>\n",
       "      <td>2024-08-02</td>\n",
       "      <td>2024-05-25</td>\n",
       "      <td>2024-06-15</td>\n",
       "      <td>Routine</td>\n",
       "      <td>988.37</td>\n",
       "      <td>...</td>\n",
       "      <td>315.70</td>\n",
       "      <td>CLAIM533365</td>\n",
       "      <td>PAYOR4707</td>\n",
       "      <td>94521</td>\n",
       "      <td>I19.4</td>\n",
       "      <td>Commercial</td>\n",
       "      <td>MEDI24173</td>\n",
       "      <td>MCARE19466</td>\n",
       "      <td>2021-01-16</td>\n",
       "      <td>2021-12-27</td>\n",
       "    </tr>\n",
       "    <tr>\n",
       "      <th>1</th>\n",
       "      <td>TRANS000002</td>\n",
       "      <td>ENC000029</td>\n",
       "      <td>HOSP1-002329</td>\n",
       "      <td>PROV0321</td>\n",
       "      <td>DEPT013</td>\n",
       "      <td>2024-05-02</td>\n",
       "      <td>2024-09-14</td>\n",
       "      <td>2024-09-19</td>\n",
       "      <td>Emergency</td>\n",
       "      <td>291.26</td>\n",
       "      <td>...</td>\n",
       "      <td>667.99</td>\n",
       "      <td>CLAIM629724</td>\n",
       "      <td>PAYOR1481</td>\n",
       "      <td>51588</td>\n",
       "      <td>I54.0</td>\n",
       "      <td>Self-Pay</td>\n",
       "      <td>MEDI63110</td>\n",
       "      <td>MCARE97946</td>\n",
       "      <td>2021-02-06</td>\n",
       "      <td>2022-01-26</td>\n",
       "    </tr>\n",
       "    <tr>\n",
       "      <th>2</th>\n",
       "      <td>TRANS000003</td>\n",
       "      <td>ENC001088</td>\n",
       "      <td>HOSP1-004636</td>\n",
       "      <td>PROV0405</td>\n",
       "      <td>DEPT007</td>\n",
       "      <td>2024-07-25</td>\n",
       "      <td>2024-03-04</td>\n",
       "      <td>2024-06-13</td>\n",
       "      <td>Routine</td>\n",
       "      <td>91.51</td>\n",
       "      <td>...</td>\n",
       "      <td>595.56</td>\n",
       "      <td>CLAIM305176</td>\n",
       "      <td>PAYOR8415</td>\n",
       "      <td>32053</td>\n",
       "      <td>I35.3</td>\n",
       "      <td>Medicaid</td>\n",
       "      <td>MEDI83622</td>\n",
       "      <td>MCARE77469</td>\n",
       "      <td>2022-05-09</td>\n",
       "      <td>2021-09-22</td>\n",
       "    </tr>\n",
       "    <tr>\n",
       "      <th>3</th>\n",
       "      <td>TRANS000004</td>\n",
       "      <td>ENC004215</td>\n",
       "      <td>HOSP1-004064</td>\n",
       "      <td>PROV0463</td>\n",
       "      <td>DEPT019</td>\n",
       "      <td>2024-01-30</td>\n",
       "      <td>2024-02-05</td>\n",
       "      <td>2024-01-21</td>\n",
       "      <td>Follow-up</td>\n",
       "      <td>893.21</td>\n",
       "      <td>...</td>\n",
       "      <td>489.80</td>\n",
       "      <td>CLAIM987878</td>\n",
       "      <td>PAYOR5517</td>\n",
       "      <td>21422</td>\n",
       "      <td>I35.1</td>\n",
       "      <td>Commercial</td>\n",
       "      <td>MEDI89783</td>\n",
       "      <td>MCARE68786</td>\n",
       "      <td>2021-01-30</td>\n",
       "      <td>2023-02-20</td>\n",
       "    </tr>\n",
       "    <tr>\n",
       "      <th>4</th>\n",
       "      <td>TRANS000005</td>\n",
       "      <td>ENC006483</td>\n",
       "      <td>HOSP1-003625</td>\n",
       "      <td>PROV0167</td>\n",
       "      <td>DEPT011</td>\n",
       "      <td>2024-09-23</td>\n",
       "      <td>2024-04-11</td>\n",
       "      <td>2024-04-24</td>\n",
       "      <td>Emergency</td>\n",
       "      <td>729.37</td>\n",
       "      <td>...</td>\n",
       "      <td>305.11</td>\n",
       "      <td>CLAIM988945</td>\n",
       "      <td>PAYOR8174</td>\n",
       "      <td>39210</td>\n",
       "      <td>I81.1</td>\n",
       "      <td>Commercial</td>\n",
       "      <td>MEDI52037</td>\n",
       "      <td>MCARE92710</td>\n",
       "      <td>2024-08-11</td>\n",
       "      <td>2022-01-28</td>\n",
       "    </tr>\n",
       "  </tbody>\n",
       "</table>\n",
       "<p>5 rows × 21 columns</p>\n",
       "</div>"
      ],
      "text/plain": [
       "  TransactionID EncounterID     PatientID ProviderID   DeptID   VisitDate  \\\n",
       "0   TRANS000001   ENC001204  HOSP1-002372   PROV0456  DEPT002  2024-08-02   \n",
       "1   TRANS000002   ENC000029  HOSP1-002329   PROV0321  DEPT013  2024-05-02   \n",
       "2   TRANS000003   ENC001088  HOSP1-004636   PROV0405  DEPT007  2024-07-25   \n",
       "3   TRANS000004   ENC004215  HOSP1-004064   PROV0463  DEPT019  2024-01-30   \n",
       "4   TRANS000005   ENC006483  HOSP1-003625   PROV0167  DEPT011  2024-09-23   \n",
       "\n",
       "  ServiceDate    PaidDate  VisitType  Amount  ... PaidAmount      ClaimID  \\\n",
       "0  2024-05-25  2024-06-15    Routine  988.37  ...     315.70  CLAIM533365   \n",
       "1  2024-09-14  2024-09-19  Emergency  291.26  ...     667.99  CLAIM629724   \n",
       "2  2024-03-04  2024-06-13    Routine   91.51  ...     595.56  CLAIM305176   \n",
       "3  2024-02-05  2024-01-21  Follow-up  893.21  ...     489.80  CLAIM987878   \n",
       "4  2024-04-11  2024-04-24  Emergency  729.37  ...     305.11  CLAIM988945   \n",
       "\n",
       "     PayorID ProcedureCode  ICDCode LineOfBusiness MedicaidID  MedicareID  \\\n",
       "0  PAYOR4707         94521    I19.4     Commercial  MEDI24173  MCARE19466   \n",
       "1  PAYOR1481         51588    I54.0       Self-Pay  MEDI63110  MCARE97946   \n",
       "2  PAYOR8415         32053    I35.3       Medicaid  MEDI83622  MCARE77469   \n",
       "3  PAYOR5517         21422    I35.1     Commercial  MEDI89783  MCARE68786   \n",
       "4  PAYOR8174         39210    I81.1     Commercial  MEDI52037  MCARE92710   \n",
       "\n",
       "   InsertDate ModifiedDate  \n",
       "0  2021-01-16   2021-12-27  \n",
       "1  2021-02-06   2022-01-26  \n",
       "2  2022-05-09   2021-09-22  \n",
       "3  2021-01-30   2023-02-20  \n",
       "4  2024-08-11   2022-01-28  \n",
       "\n",
       "[5 rows x 21 columns]"
      ]
     },
     "execution_count": 59,
     "metadata": {},
     "output_type": "execute_result"
    }
   ],
   "source": [
    "transactions_a = extractor.extract_transaction_data(\"hospital_a\", start_date=\"2024-01-01\", end_date=\"2024-12-31\")\n",
    "transactions_a.head()"
   ]
  },
  {
   "cell_type": "code",
   "execution_count": 60,
   "id": "63c453ea",
   "metadata": {},
   "outputs": [
    {
     "name": "stderr",
     "output_type": "stream",
     "text": [
      "C:\\Users\\91767\\AppData\\Local\\Temp\\ipykernel_1192\\1198875622.py:29: UserWarning: pandas only supports SQLAlchemy connectable (engine/connection) or database string URI or sqlite3 DBAPI2 connection. Other DBAPI2 objects are not tested. Please consider using SQLAlchemy.\n",
      "  df = pd.read_sql(query, conn)  # read into pandas DataFrame\n"
     ]
    },
    {
     "name": "stdout",
     "output_type": "stream",
     "text": [
      "hospital_b: Extracted 4985 records in 0.75s\n"
     ]
    },
    {
     "data": {
      "text/html": [
       "<div>\n",
       "<style scoped>\n",
       "    .dataframe tbody tr th:only-of-type {\n",
       "        vertical-align: middle;\n",
       "    }\n",
       "\n",
       "    .dataframe tbody tr th {\n",
       "        vertical-align: top;\n",
       "    }\n",
       "\n",
       "    .dataframe thead th {\n",
       "        text-align: right;\n",
       "    }\n",
       "</style>\n",
       "<table border=\"1\" class=\"dataframe\">\n",
       "  <thead>\n",
       "    <tr style=\"text-align: right;\">\n",
       "      <th></th>\n",
       "      <th>ID</th>\n",
       "      <th>F_Name</th>\n",
       "      <th>L_Name</th>\n",
       "      <th>M_Name</th>\n",
       "      <th>SSN</th>\n",
       "      <th>PhoneNumber</th>\n",
       "      <th>Gender</th>\n",
       "      <th>DOB</th>\n",
       "      <th>Address</th>\n",
       "      <th>ModifiedDate</th>\n",
       "    </tr>\n",
       "  </thead>\n",
       "  <tbody>\n",
       "    <tr>\n",
       "      <th>0</th>\n",
       "      <td>HOSP1-000001</td>\n",
       "      <td>Victoria</td>\n",
       "      <td>Gamble</td>\n",
       "      <td>Q</td>\n",
       "      <td>318-87-5123</td>\n",
       "      <td>4902994299</td>\n",
       "      <td>Male</td>\n",
       "      <td>1994-12-24</td>\n",
       "      <td>7912 Arthur Loaf Apt. 907, Julieville, AK 38866</td>\n",
       "      <td>2021-06-19</td>\n",
       "    </tr>\n",
       "    <tr>\n",
       "      <th>1</th>\n",
       "      <td>HOSP1-000002</td>\n",
       "      <td>Meghan</td>\n",
       "      <td>West</td>\n",
       "      <td>F</td>\n",
       "      <td>110-08-3049</td>\n",
       "      <td>(703)210-5078x2916</td>\n",
       "      <td>Female</td>\n",
       "      <td>2009-04-03</td>\n",
       "      <td>70600 Destiny Grove Suite 946, Amberside, IL 2...</td>\n",
       "      <td>2024-07-06</td>\n",
       "    </tr>\n",
       "  </tbody>\n",
       "</table>\n",
       "</div>"
      ],
      "text/plain": [
       "             ID    F_Name  L_Name M_Name          SSN         PhoneNumber  \\\n",
       "0  HOSP1-000001  Victoria  Gamble      Q  318-87-5123          4902994299   \n",
       "1  HOSP1-000002    Meghan    West      F  110-08-3049  (703)210-5078x2916   \n",
       "\n",
       "   Gender         DOB                                            Address  \\\n",
       "0    Male  1994-12-24    7912 Arthur Loaf Apt. 907, Julieville, AK 38866   \n",
       "1  Female  2009-04-03  70600 Destiny Grove Suite 946, Amberside, IL 2...   \n",
       "\n",
       "  ModifiedDate  \n",
       "0   2021-06-19  \n",
       "1   2024-07-06  "
      ]
     },
     "execution_count": 60,
     "metadata": {},
     "output_type": "execute_result"
    }
   ],
   "source": [
    "patients_b = extractor.extract_patient_data(\"hospital_b\")\n",
    "patients_b.head(2)"
   ]
  },
  {
   "cell_type": "code",
   "execution_count": 61,
   "id": "0e9c55ba",
   "metadata": {},
   "outputs": [
    {
     "name": "stderr",
     "output_type": "stream",
     "text": [
      "C:\\Users\\91767\\AppData\\Local\\Temp\\ipykernel_1192\\1198875622.py:29: UserWarning: pandas only supports SQLAlchemy connectable (engine/connection) or database string URI or sqlite3 DBAPI2 connection. Other DBAPI2 objects are not tested. Please consider using SQLAlchemy.\n",
      "  df = pd.read_sql(query, conn)  # read into pandas DataFrame\n"
     ]
    },
    {
     "name": "stdout",
     "output_type": "stream",
     "text": [
      "hospital_b: Extracted 10000 records in 0.95s\n"
     ]
    },
    {
     "data": {
      "text/html": [
       "<div>\n",
       "<style scoped>\n",
       "    .dataframe tbody tr th:only-of-type {\n",
       "        vertical-align: middle;\n",
       "    }\n",
       "\n",
       "    .dataframe tbody tr th {\n",
       "        vertical-align: top;\n",
       "    }\n",
       "\n",
       "    .dataframe thead th {\n",
       "        text-align: right;\n",
       "    }\n",
       "</style>\n",
       "<table border=\"1\" class=\"dataframe\">\n",
       "  <thead>\n",
       "    <tr style=\"text-align: right;\">\n",
       "      <th></th>\n",
       "      <th>TransactionID</th>\n",
       "      <th>EncounterID</th>\n",
       "      <th>PatientID</th>\n",
       "      <th>ProviderID</th>\n",
       "      <th>DeptID</th>\n",
       "      <th>VisitDate</th>\n",
       "      <th>ServiceDate</th>\n",
       "      <th>PaidDate</th>\n",
       "      <th>VisitType</th>\n",
       "      <th>Amount</th>\n",
       "      <th>...</th>\n",
       "      <th>PaidAmount</th>\n",
       "      <th>ClaimID</th>\n",
       "      <th>PayorID</th>\n",
       "      <th>ProcedureCode</th>\n",
       "      <th>ICDCode</th>\n",
       "      <th>LineOfBusiness</th>\n",
       "      <th>MedicaidID</th>\n",
       "      <th>MedicareID</th>\n",
       "      <th>InsertDate</th>\n",
       "      <th>ModifiedDate</th>\n",
       "    </tr>\n",
       "  </thead>\n",
       "  <tbody>\n",
       "    <tr>\n",
       "      <th>0</th>\n",
       "      <td>TRANS000001</td>\n",
       "      <td>ENC000512</td>\n",
       "      <td>HOSP1-002609</td>\n",
       "      <td>PROV0434</td>\n",
       "      <td>DEPT016</td>\n",
       "      <td>2024-08-31</td>\n",
       "      <td>2024-04-03</td>\n",
       "      <td>2024-02-06</td>\n",
       "      <td>Follow-up</td>\n",
       "      <td>616.87</td>\n",
       "      <td>...</td>\n",
       "      <td>234.57</td>\n",
       "      <td>CLAIM879364</td>\n",
       "      <td>PAYOR9066</td>\n",
       "      <td>93411</td>\n",
       "      <td>I95.4</td>\n",
       "      <td>Commercial</td>\n",
       "      <td>MEDI13625</td>\n",
       "      <td>MCARE38344</td>\n",
       "      <td>2021-10-01</td>\n",
       "      <td>2024-01-15</td>\n",
       "    </tr>\n",
       "    <tr>\n",
       "      <th>1</th>\n",
       "      <td>TRANS000002</td>\n",
       "      <td>ENC009236</td>\n",
       "      <td>HOSP1-004031</td>\n",
       "      <td>PROV0382</td>\n",
       "      <td>DEPT017</td>\n",
       "      <td>2024-04-10</td>\n",
       "      <td>2024-08-25</td>\n",
       "      <td>2024-02-01</td>\n",
       "      <td>Follow-up</td>\n",
       "      <td>680.42</td>\n",
       "      <td>...</td>\n",
       "      <td>445.87</td>\n",
       "      <td>CLAIM835197</td>\n",
       "      <td>PAYOR1013</td>\n",
       "      <td>86401</td>\n",
       "      <td>I39.5</td>\n",
       "      <td>Self-Pay</td>\n",
       "      <td>MEDI20311</td>\n",
       "      <td>MCARE53178</td>\n",
       "      <td>2020-03-20</td>\n",
       "      <td>2023-01-29</td>\n",
       "    </tr>\n",
       "  </tbody>\n",
       "</table>\n",
       "<p>2 rows × 21 columns</p>\n",
       "</div>"
      ],
      "text/plain": [
       "  TransactionID EncounterID     PatientID ProviderID   DeptID   VisitDate  \\\n",
       "0   TRANS000001   ENC000512  HOSP1-002609   PROV0434  DEPT016  2024-08-31   \n",
       "1   TRANS000002   ENC009236  HOSP1-004031   PROV0382  DEPT017  2024-04-10   \n",
       "\n",
       "  ServiceDate    PaidDate  VisitType  Amount  ... PaidAmount      ClaimID  \\\n",
       "0  2024-04-03  2024-02-06  Follow-up  616.87  ...     234.57  CLAIM879364   \n",
       "1  2024-08-25  2024-02-01  Follow-up  680.42  ...     445.87  CLAIM835197   \n",
       "\n",
       "     PayorID ProcedureCode  ICDCode LineOfBusiness MedicaidID  MedicareID  \\\n",
       "0  PAYOR9066         93411    I95.4     Commercial  MEDI13625  MCARE38344   \n",
       "1  PAYOR1013         86401    I39.5       Self-Pay  MEDI20311  MCARE53178   \n",
       "\n",
       "   InsertDate ModifiedDate  \n",
       "0  2021-10-01   2024-01-15  \n",
       "1  2020-03-20   2023-01-29  \n",
       "\n",
       "[2 rows x 21 columns]"
      ]
     },
     "execution_count": 61,
     "metadata": {},
     "output_type": "execute_result"
    }
   ],
   "source": [
    "transactions_b = extractor.extract_transaction_data(\"hospital_b\")\n",
    "transactions_b.head(2)"
   ]
  },
  {
   "cell_type": "code",
   "execution_count": 62,
   "id": "c9d05655",
   "metadata": {},
   "outputs": [],
   "source": [
    "##  Task 2.2: Claims Data Extraction"
   ]
  },
  {
   "cell_type": "code",
   "execution_count": 63,
   "id": "67e565ab",
   "metadata": {},
   "outputs": [
    {
     "name": "stdout",
     "output_type": "stream",
     "text": [
      " Found 2 claims CSV files\n",
      "Loaded hospital1_claim_data.csv with 10000 records\n",
      "Loaded hospital2_claim_data.csv with 10000 records\n",
      "\n",
      "📊 Total combined claims: 20000\n"
     ]
    }
   ],
   "source": [
    "import os\n",
    "\n",
    "\n",
    "# Path to the claims CSVs\n",
    "CLAIMS_DIR = \"../../Datasets/claims\" \n",
    "\n",
    "REQUIRED_COLUMNS = {\n",
    "    \"ClaimID\", \"PatientID\", \n",
    "    \"ClaimDate\", \"ProviderID\", \n",
    "    \"ClaimAmount\", \"ClaimStatus\"\n",
    "}\n",
    "\n",
    "def read_claims_csvs(directory_path):\n",
    "    all_claims = []\n",
    "    files = [f for f in os.listdir(directory_path) if f.endswith(\".csv\")]\n",
    "    \n",
    "    print(f\" Found {len(files)} claims CSV files\")\n",
    "\n",
    "    for file in files:\n",
    "        file_path = os.path.join(directory_path, file)\n",
    "        try:\n",
    "            df = pd.read_csv(file_path)\n",
    "            #print(df.head(2))\n",
    "            df_columns = set(df.columns)\n",
    "            \n",
    "            # Validate required columns\n",
    "            #print(df_columns)\n",
    "            missing = REQUIRED_COLUMNS - df_columns\n",
    "            #print(missing)\n",
    "            if missing:\n",
    "                print(f\"⚠️ Skipping {file} due to missing columns: {missing}\")\n",
    "                continue\n",
    "\n",
    "            # Keep only required columns (ignore extras)\n",
    "            df = df[list(REQUIRED_COLUMNS)]\n",
    "            df[\"source_file\"] = file  # useful for tracing origin\n",
    "            all_claims.append(df)\n",
    "            print(f\"Loaded {file} with {len(df)} records\")\n",
    "\n",
    "        except Exception as e:\n",
    "            print(f\"Error reading {file}: {e}\")\n",
    "    \n",
    "    # Combine all claims into one DataFrame\n",
    "    if all_claims:\n",
    "        combined_df = pd.concat(all_claims, ignore_index=True)\n",
    "        print(f\"\\n📊 Total combined claims: {len(combined_df)}\")\n",
    "        return combined_df\n",
    "    else:\n",
    "        print(\"No valid claims files found.\")\n",
    "        return pd.DataFrame()\n",
    "\n",
    "claims_df = read_claims_csvs(CLAIMS_DIR)\n"
   ]
  },
  {
   "cell_type": "code",
   "execution_count": 64,
   "id": "efd6876e",
   "metadata": {},
   "outputs": [],
   "source": [
    "\n",
    "# Task 2.3: Data Source Integratio"
   ]
  },
  {
   "cell_type": "code",
   "execution_count": 98,
   "id": "56623612",
   "metadata": {},
   "outputs": [
    {
     "name": "stdout",
     "output_type": "stream",
     "text": [
      "Index(['PatientID', 'FirstName', 'LastName', 'MiddleName', 'SSN',\n",
      "       'PhoneNumber', 'Gender', 'DOB', 'Address', 'ModifiedDate', 'source',\n",
      "       'unified_patient_id'],\n",
      "      dtype='object')\n",
      "Index(['ID', 'F_Name', 'L_Name', 'M_Name', 'SSN', 'PhoneNumber', 'Gender',\n",
      "       'DOB', 'Address', 'ModifiedDate', 'source', 'unified_patient_id'],\n",
      "      dtype='object')\n",
      "Index(['TransactionID', 'EncounterID', 'PatientID', 'ProviderID', 'DeptID',\n",
      "       'VisitDate', 'ServiceDate', 'PaidDate', 'VisitType', 'Amount',\n",
      "       'AmountType', 'PaidAmount', 'ClaimID', 'PayorID', 'ProcedureCode',\n",
      "       'ICDCode', 'LineOfBusiness', 'MedicaidID', 'MedicareID', 'InsertDate',\n",
      "       'ModifiedDate', 'source', 'unified_patient_id'],\n",
      "      dtype='object')\n",
      "Index(['TransactionID', 'EncounterID', 'PatientID', 'ProviderID', 'DeptID',\n",
      "       'VisitDate', 'ServiceDate', 'PaidDate', 'VisitType', 'Amount',\n",
      "       'AmountType', 'PaidAmount', 'ClaimID', 'PayorID', 'ProcedureCode',\n",
      "       'ICDCode', 'LineOfBusiness', 'MedicaidID', 'MedicareID', 'InsertDate',\n",
      "       'ModifiedDate', 'source', 'ID', 'unified_patient_id'],\n",
      "      dtype='object')\n"
     ]
    }
   ],
   "source": [
    "# adding source\n",
    "\n",
    "patients_a[\"source\"] = \"hospital_a\"\n",
    "patients_b[\"source\"] = \"hospital_b\"\n",
    "\n",
    "transactions_a[\"source\"] = \"hospital_a\"\n",
    "transactions_b[\"source\"] = \"hospital_b\"\n",
    "\n",
    "print(patients_a.columns)\n",
    "print(patients_b.columns)\n",
    "print(transactions_a.columns)\n",
    "print(transactions_b.columns)\n"
   ]
  },
  {
   "cell_type": "code",
   "execution_count": 99,
   "id": "8dae2b52",
   "metadata": {},
   "outputs": [],
   "source": [
    "patients_b.rename(columns={'ID':\"PatientID\",'F_Name': 'FirstName', 'M_Name': 'MiddleName','L_Name':'LastName'}, inplace=True)\n",
    "\n"
   ]
  },
  {
   "cell_type": "code",
   "execution_count": 105,
   "id": "b0d67328",
   "metadata": {},
   "outputs": [
    {
     "name": "stdout",
     "output_type": "stream",
     "text": [
      "Index(['PatientID', 'FirstName', 'LastName', 'MiddleName', 'SSN',\n",
      "       'PhoneNumber', 'Gender', 'DOB', 'Address', 'ModifiedDate', 'source'],\n",
      "      dtype='object')\n",
      "Index(['PatientID', 'FirstName', 'LastName', 'MiddleName', 'SSN',\n",
      "       'PhoneNumber', 'Gender', 'DOB', 'Address', 'ModifiedDate', 'source'],\n",
      "      dtype='object')\n",
      "Index(['TransactionID', 'EncounterID', 'PatientID', 'ProviderID', 'DeptID',\n",
      "       'VisitDate', 'ServiceDate', 'PaidDate', 'VisitType', 'Amount',\n",
      "       'AmountType', 'PaidAmount', 'ClaimID', 'PayorID', 'ProcedureCode',\n",
      "       'ICDCode', 'LineOfBusiness', 'MedicaidID', 'MedicareID', 'InsertDate',\n",
      "       'ModifiedDate', 'source'],\n",
      "      dtype='object')\n",
      "Index(['TransactionID', 'EncounterID', 'PatientID', 'ProviderID', 'DeptID',\n",
      "       'VisitDate', 'ServiceDate', 'PaidDate', 'VisitType', 'Amount',\n",
      "       'AmountType', 'PaidAmount', 'ClaimID', 'PayorID', 'ProcedureCode',\n",
      "       'ICDCode', 'LineOfBusiness', 'MedicaidID', 'MedicareID', 'InsertDate',\n",
      "       'ModifiedDate', 'source', 'ID'],\n",
      "      dtype='object')\n"
     ]
    }
   ],
   "source": [
    "print(patients_a.columns)\n",
    "print(patients_b.columns)\n",
    "print(transactions_a.columns)\n",
    "print(transactions_b.columns)"
   ]
  },
  {
   "cell_type": "code",
   "execution_count": 104,
   "id": "c02c285f",
   "metadata": {},
   "outputs": [],
   "source": [
    "\n",
    "transactions_a.drop(columns=[\"unified_patient_id\"], inplace=True)\n",
    "transactions_b.drop(columns=[\"unified_patient_id\"], inplace=True)"
   ]
  },
  {
   "cell_type": "code",
   "execution_count": 106,
   "id": "6df80ca2",
   "metadata": {},
   "outputs": [
    {
     "data": {
      "text/plain": [
       "0       HOSP_B_HOSP1-000001\n",
       "1       HOSP_B_HOSP1-000002\n",
       "2       HOSP_B_HOSP1-000003\n",
       "3       HOSP_B_HOSP1-000004\n",
       "4       HOSP_B_HOSP1-000005\n",
       "               ...         \n",
       "4980    HOSP_B_HOSP1-004996\n",
       "4981    HOSP_B_HOSP1-004997\n",
       "4982    HOSP_B_HOSP1-004998\n",
       "4983    HOSP_B_HOSP1-004999\n",
       "4984    HOSP_B_HOSP1-005000\n",
       "Name: unified_patient_id, Length: 4985, dtype: object"
      ]
     },
     "execution_count": 106,
     "metadata": {},
     "output_type": "execute_result"
    }
   ],
   "source": [
    "#Create unified patient ID across hospitals\n",
    "\n",
    "patients_a[\"unified_patient_id\"] = \"HOSP_A_\" + patients_a[\"PatientID\"].astype(str)\n",
    "patients_b[\"unified_patient_id\"] = \"HOSP_B_\" + patients_b[\"PatientID\"].astype(str)\n",
    "\n",
    "patients_b[\"unified_patient_id\"]"
   ]
  },
  {
   "cell_type": "code",
   "execution_count": 107,
   "id": "4e1df1df",
   "metadata": {},
   "outputs": [
    {
     "data": {
      "text/plain": [
       "Index(['TransactionID', 'EncounterID', 'PatientID', 'ProviderID', 'DeptID',\n",
       "       'VisitDate', 'ServiceDate', 'PaidDate', 'VisitType', 'Amount',\n",
       "       'AmountType', 'PaidAmount', 'ClaimID', 'PayorID', 'ProcedureCode',\n",
       "       'ICDCode', 'LineOfBusiness', 'MedicaidID', 'MedicareID', 'InsertDate',\n",
       "       'ModifiedDate', 'source', 'unified_patient_id'],\n",
       "      dtype='object')"
      ]
     },
     "execution_count": 107,
     "metadata": {},
     "output_type": "execute_result"
    }
   ],
   "source": [
    "transactions_a = transactions_a.merge(\n",
    "    patients_a[[\"PatientID\", \"unified_patient_id\"]],\n",
    "    on=\"PatientID\",\n",
    "    how=\"left\"\n",
    ")\n",
    "transactions_a.columns\n"
   ]
  },
  {
   "cell_type": "code",
   "execution_count": 108,
   "id": "21792810",
   "metadata": {},
   "outputs": [
    {
     "name": "stdout",
     "output_type": "stream",
     "text": [
      "Index(['TransactionID', 'EncounterID', 'PatientID', 'ProviderID', 'DeptID',\n",
      "       'VisitDate', 'ServiceDate', 'PaidDate', 'VisitType', 'Amount',\n",
      "       'AmountType', 'PaidAmount', 'ClaimID', 'PayorID', 'ProcedureCode',\n",
      "       'ICDCode', 'LineOfBusiness', 'MedicaidID', 'MedicareID', 'InsertDate',\n",
      "       'ModifiedDate', 'source', 'ID'],\n",
      "      dtype='object')\n"
     ]
    },
    {
     "data": {
      "text/plain": [
       "Index(['PatientID', 'FirstName', 'LastName', 'MiddleName', 'SSN',\n",
       "       'PhoneNumber', 'Gender', 'DOB', 'Address', 'ModifiedDate', 'source',\n",
       "       'unified_patient_id'],\n",
       "      dtype='object')"
      ]
     },
     "execution_count": 108,
     "metadata": {},
     "output_type": "execute_result"
    }
   ],
   "source": [
    "print(transactions_b.columns)\n",
    "\n",
    "patients_b.columns"
   ]
  },
  {
   "cell_type": "code",
   "execution_count": 110,
   "id": "d7657e06",
   "metadata": {},
   "outputs": [
    {
     "data": {
      "text/plain": [
       "Index(['TransactionID', 'EncounterID', 'PatientID', 'ProviderID', 'DeptID',\n",
       "       'VisitDate', 'ServiceDate', 'PaidDate', 'VisitType', 'Amount',\n",
       "       'AmountType', 'PaidAmount', 'ClaimID', 'PayorID', 'ProcedureCode',\n",
       "       'ICDCode', 'LineOfBusiness', 'MedicaidID', 'MedicareID', 'InsertDate',\n",
       "       'ModifiedDate', 'source', 'ID', 'unified_patient_id'],\n",
       "      dtype='object')"
      ]
     },
     "execution_count": 110,
     "metadata": {},
     "output_type": "execute_result"
    }
   ],
   "source": [
    "transactions_b = transactions_b.merge(\n",
    "    patients_b[[\"PatientID\", \"unified_patient_id\"]],\n",
    "    on=\"PatientID\",\n",
    "    how=\"left\"\n",
    ")\n",
    "transactions_b.columns"
   ]
  },
  {
   "cell_type": "code",
   "execution_count": null,
   "id": "df8cbe43",
   "metadata": {},
   "outputs": [],
   "source": []
  },
  {
   "cell_type": "code",
   "execution_count": 111,
   "id": "a32f64d3",
   "metadata": {},
   "outputs": [],
   "source": [
    "# combined patients\n",
    "\n",
    "combined_patients = pd.concat([patients_a, patients_b], ignore_index=True)\n",
    "combined_transactions = pd.concat([transactions_a, transactions_b], ignore_index=True)"
   ]
  },
  {
   "cell_type": "code",
   "execution_count": 113,
   "id": "0ff626f8",
   "metadata": {},
   "outputs": [
    {
     "name": "stdout",
     "output_type": "stream",
     "text": [
      "Combined patients: 9985 rows\n",
      "Combined transactions: 20000 rows\n",
      "      PatientID FirstName LastName MiddleName          SSN  \\\n",
      "0  HOSP1-000001      Rick    Russo          U  188-23-9828   \n",
      "1  HOSP1-000002   Gregory   Graham          B  730-45-8217   \n",
      "2  HOSP1-000003      Mary     Ryan          H  348-14-7947   \n",
      "\n",
      "            PhoneNumber  Gender         DOB  \\\n",
      "0  +1-630-829-7585x0769  Female  1937-06-04   \n",
      "1    456.746.7289x69233  Female  1937-06-10   \n",
      "2          522-501-5461  Female  1926-08-09   \n",
      "\n",
      "                                      Address ModifiedDate      source  \\\n",
      "0            Unit 0915 Box 7064, DPO AA 82777   2020-05-25  hospital_a   \n",
      "1   9864 Gibson Islands, Danielside, KY 99809   2021-06-05  hospital_a   \n",
      "2  6194 Joseph Turnpike, North Juan, OH 46800   2024-09-06  hospital_a   \n",
      "\n",
      "    unified_patient_id  \n",
      "0  HOSP_A_HOSP1-000001  \n",
      "1  HOSP_A_HOSP1-000002  \n",
      "2  HOSP_A_HOSP1-000003  \n",
      "  TransactionID EncounterID     PatientID ProviderID   DeptID   VisitDate  \\\n",
      "0   TRANS000001   ENC001204  HOSP1-002372   PROV0456  DEPT002  2024-08-02   \n",
      "1   TRANS000002   ENC000029  HOSP1-002329   PROV0321  DEPT013  2024-05-02   \n",
      "2   TRANS000003   ENC001088  HOSP1-004636   PROV0405  DEPT007  2024-07-25   \n",
      "\n",
      "  ServiceDate    PaidDate  VisitType  Amount  ... ProcedureCode  ICDCode  \\\n",
      "0  2024-05-25  2024-06-15    Routine  988.37  ...         94521    I19.4   \n",
      "1  2024-09-14  2024-09-19  Emergency  291.26  ...         51588    I54.0   \n",
      "2  2024-03-04  2024-06-13    Routine   91.51  ...         32053    I35.3   \n",
      "\n",
      "  LineOfBusiness MedicaidID  MedicareID  InsertDate ModifiedDate      source  \\\n",
      "0     Commercial  MEDI24173  MCARE19466  2021-01-16   2021-12-27  hospital_a   \n",
      "1       Self-Pay  MEDI63110  MCARE97946  2021-02-06   2022-01-26  hospital_a   \n",
      "2       Medicaid  MEDI83622  MCARE77469  2022-05-09   2021-09-22  hospital_a   \n",
      "\n",
      "    unified_patient_id   ID  \n",
      "0  HOSP_A_HOSP1-002372  NaN  \n",
      "1  HOSP_A_HOSP1-002329  NaN  \n",
      "2  HOSP_A_HOSP1-004636  NaN  \n",
      "\n",
      "[3 rows x 24 columns]\n"
     ]
    }
   ],
   "source": [
    "print(f\"Combined patients: {combined_patients.shape[0]} rows\")\n",
    "print(f\"Combined transactions: {combined_transactions.shape[0]} rows\")\n",
    "\n",
    "print(combined_patients.head(3))\n",
    "print(combined_transactions.head(3))\n"
   ]
  },
  {
   "cell_type": "code",
   "execution_count": 112,
   "id": "fca5d72a",
   "metadata": {},
   "outputs": [],
   "source": [
    "combined_patients.to_csv(\"../../datasets/combined_patients.csv\", index=False)\n",
    "combined_transactions.to_csv(\"../../datasets/combined_transactions.csv\", index=False)"
   ]
  },
  {
   "cell_type": "code",
   "execution_count": null,
   "id": "c7c5cc0d",
   "metadata": {},
   "outputs": [],
   "source": []
  },
  {
   "cell_type": "code",
   "execution_count": null,
   "id": "d7f3cfa3",
   "metadata": {},
   "outputs": [],
   "source": []
  }
 ],
 "metadata": {
  "kernelspec": {
   "display_name": "rcm_env",
   "language": "python",
   "name": "python3"
  },
  "language_info": {
   "codemirror_mode": {
    "name": "ipython",
    "version": 3
   },
   "file_extension": ".py",
   "mimetype": "text/x-python",
   "name": "python",
   "nbconvert_exporter": "python",
   "pygments_lexer": "ipython3",
   "version": "3.10.18"
  }
 },
 "nbformat": 4,
 "nbformat_minor": 5
}
