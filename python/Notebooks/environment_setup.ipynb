{
 "cells": [
  {
   "cell_type": "code",
   "execution_count": 5,
   "id": "1b2489f7",
   "metadata": {},
   "outputs": [
    {
     "name": "stdout",
     "output_type": "stream",
     "text": [
      "Setup Done\n"
     ]
    }
   ],
   "source": [
    "\n",
    "print(\"Setup Done\")"
   ]
  },
  {
   "cell_type": "code",
   "execution_count": 4,
   "id": "5e036caf",
   "metadata": {},
   "outputs": [],
   "source": [
    "import pandas as pd"
   ]
  },
  {
   "cell_type": "code",
   "execution_count": 2,
   "id": "3da83350",
   "metadata": {},
   "outputs": [
    {
     "name": "stdout",
     "output_type": "stream",
     "text": [
      "Connected to BigQuery project: rcm-project-467713\n"
     ]
    }
   ],
   "source": [
    "import os\n",
    "from google.cloud import bigquery\n",
    "\n",
    "os.environ[\"GOOGLE_APPLICATION_CREDENTIALS\"] = \"../config/gcp_config.json\"\n",
    "\n",
    "# Test BigQuery client\n",
    "try:\n",
    "    client = bigquery.Client()\n",
    "    print(\"Connected to BigQuery project:\", client.project)\n",
    "except Exception as e:\n",
    "    print(\"❌ BigQuery connection failed:\", e)"
   ]
  },
  {
   "cell_type": "code",
   "execution_count": null,
   "id": "67c9fa86",
   "metadata": {},
   "outputs": [
    {
     "name": "stdout",
     "output_type": "stream",
     "text": [
      "🔌 Testing MySQL connections...\n",
      "✅ hospital_a: Connected. Tables: ['departments', 'encounters', 'patients', 'providers', 'transactions']\n",
      "✅ hospital_b: Connected. Tables: ['departments', 'encounters', 'patients', 'providers', 'transactions']\n"
     ]
    }
   ],
   "source": [
    "import json\n",
    "import mysql.connector\n",
    "\n",
    "with open('../config/db_config.json', 'r') as f:\n",
    "    MYSQL_CONFIG = json.load(f)\n",
    "\n",
    "def test_mysql_connections():\n",
    "    print(\"Testing MySQL connections...\")\n",
    "    for hospital, creds in MYSQL_CONFIG.items():\n",
    "        try:\n",
    "            conn = mysql.connector.connect(**creds)\n",
    "            cursor = conn.cursor()\n",
    "            cursor.execute(\"SHOW TABLES;\")\n",
    "            tables = cursor.fetchall()\n",
    "            print(f\"✅ {hospital}: Connected. Tables: {[t[0] for t in tables]}\")\n",
    "            cursor.close()\n",
    "            conn.close()\n",
    "        except Exception as e:\n",
    "            print(f\"❌ {hospital}: Connection failed.\\nError: {e}\")\n",
    "\n",
    "test_mysql_connections()\n"
   ]
  },
  {
   "cell_type": "code",
   "execution_count": null,
   "id": "28f7441d",
   "metadata": {},
   "outputs": [],
   "source": []
  },
  {
   "cell_type": "code",
   "execution_count": null,
   "id": "34879a91",
   "metadata": {},
   "outputs": [],
   "source": []
  }
 ],
 "metadata": {
  "kernelspec": {
   "display_name": "rcm_env",
   "language": "python",
   "name": "python3"
  },
  "language_info": {
   "codemirror_mode": {
    "name": "ipython",
    "version": 3
   },
   "file_extension": ".py",
   "mimetype": "text/x-python",
   "name": "python",
   "nbconvert_exporter": "python",
   "pygments_lexer": "ipython3",
   "version": "3.10.18"
  }
 },
 "nbformat": 4,
 "nbformat_minor": 5
}
