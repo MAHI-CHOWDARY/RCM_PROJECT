{
 "cells": [
  {
   "cell_type": "code",
   "execution_count": 27,
   "id": "8db53b5f",
   "metadata": {},
   "outputs": [],
   "source": [
    "## TRANSFORMATION \n",
    "import pandas as pd"
   ]
  },
  {
   "cell_type": "code",
   "execution_count": 28,
   "id": "2a589636",
   "metadata": {},
   "outputs": [],
   "source": [
    "combined_patients = pd.read_csv(\"../../datasets/combined_patients.csv\")\n",
    "combined_transactions = pd.read_csv(\"../../datasets/combined_transactions.csv\")"
   ]
  },
  {
   "cell_type": "code",
   "execution_count": 29,
   "id": "e3afb3b2",
   "metadata": {},
   "outputs": [
    {
     "name": "stdout",
     "output_type": "stream",
     "text": [
      "Before :  9985  rows\n",
      "After :  9985 rows\n",
      "Before :  20000  rows\n",
      "After :  20000 rows\n"
     ]
    }
   ],
   "source": [
    "# Remove Duplicate Records\n",
    "print(\"Before : \",combined_patients.shape[0],\" rows\")\n",
    "patient_df = combined_patients.drop_duplicates()\n",
    "print(\"After : \",patient_df.shape[0], \"rows\")\n",
    "\n",
    "\n",
    "print(\"Before : \",combined_transactions.shape[0],\" rows\")\n",
    "transaction_df = combined_transactions.drop_duplicates()\n",
    "print(\"After : \",transaction_df.shape[0], \"rows\")"
   ]
  },
  {
   "cell_type": "code",
   "execution_count": 31,
   "id": "ff46dded",
   "metadata": {},
   "outputs": [
    {
     "data": {
      "text/html": [
       "<div>\n",
       "<style scoped>\n",
       "    .dataframe tbody tr th:only-of-type {\n",
       "        vertical-align: middle;\n",
       "    }\n",
       "\n",
       "    .dataframe tbody tr th {\n",
       "        vertical-align: top;\n",
       "    }\n",
       "\n",
       "    .dataframe thead th {\n",
       "        text-align: right;\n",
       "    }\n",
       "</style>\n",
       "<table border=\"1\" class=\"dataframe\">\n",
       "  <thead>\n",
       "    <tr style=\"text-align: right;\">\n",
       "      <th></th>\n",
       "      <th>PatientID</th>\n",
       "      <th>FirstName</th>\n",
       "      <th>LastName</th>\n",
       "      <th>MiddleName</th>\n",
       "      <th>SSN</th>\n",
       "      <th>PhoneNumber</th>\n",
       "      <th>Gender</th>\n",
       "      <th>DOB</th>\n",
       "      <th>Address</th>\n",
       "      <th>ModifiedDate</th>\n",
       "      <th>source</th>\n",
       "      <th>unified_patient_id</th>\n",
       "    </tr>\n",
       "  </thead>\n",
       "  <tbody>\n",
       "    <tr>\n",
       "      <th>0</th>\n",
       "      <td>HOSP1-000001</td>\n",
       "      <td>Rick</td>\n",
       "      <td>Russo</td>\n",
       "      <td>U</td>\n",
       "      <td>188-23-9828</td>\n",
       "      <td>+1-630-829-7585x0769</td>\n",
       "      <td>Female</td>\n",
       "      <td>1937-06-04</td>\n",
       "      <td>Unit 0915 Box 7064, DPO AA 82777</td>\n",
       "      <td>2020-05-25</td>\n",
       "      <td>hospital_a</td>\n",
       "      <td>HOSP_A_HOSP1-000001</td>\n",
       "    </tr>\n",
       "    <tr>\n",
       "      <th>1</th>\n",
       "      <td>HOSP1-000002</td>\n",
       "      <td>Gregory</td>\n",
       "      <td>Graham</td>\n",
       "      <td>B</td>\n",
       "      <td>730-45-8217</td>\n",
       "      <td>456.746.7289x69233</td>\n",
       "      <td>Female</td>\n",
       "      <td>1937-06-10</td>\n",
       "      <td>9864 Gibson Islands, Danielside, KY 99809</td>\n",
       "      <td>2021-06-05</td>\n",
       "      <td>hospital_a</td>\n",
       "      <td>HOSP_A_HOSP1-000002</td>\n",
       "    </tr>\n",
       "  </tbody>\n",
       "</table>\n",
       "</div>"
      ],
      "text/plain": [
       "      PatientID FirstName LastName MiddleName          SSN  \\\n",
       "0  HOSP1-000001      Rick    Russo          U  188-23-9828   \n",
       "1  HOSP1-000002   Gregory   Graham          B  730-45-8217   \n",
       "\n",
       "            PhoneNumber  Gender         DOB  \\\n",
       "0  +1-630-829-7585x0769  Female  1937-06-04   \n",
       "1    456.746.7289x69233  Female  1937-06-10   \n",
       "\n",
       "                                     Address ModifiedDate      source  \\\n",
       "0           Unit 0915 Box 7064, DPO AA 82777   2020-05-25  hospital_a   \n",
       "1  9864 Gibson Islands, Danielside, KY 99809   2021-06-05  hospital_a   \n",
       "\n",
       "    unified_patient_id  \n",
       "0  HOSP_A_HOSP1-000001  \n",
       "1  HOSP_A_HOSP1-000002  "
      ]
     },
     "execution_count": 31,
     "metadata": {},
     "output_type": "execute_result"
    }
   ],
   "source": [
    "# standardize name format\n",
    "\n",
    "for col in [\"FirstName\", \"MiddleName\", \"LastName\"]:\n",
    "    if col in patient_df.columns:\n",
    "        patient_df[col] = patient_df[col].str.title()\n",
    "patient_df.head(2)"
   ]
  },
  {
   "cell_type": "code",
   "execution_count": 33,
   "id": "2a6910c8",
   "metadata": {},
   "outputs": [
    {
     "data": {
      "text/plain": [
       "Index(['PatientID', 'FirstName', 'LastName', 'MiddleName', 'SSN',\n",
       "       'PhoneNumber', 'Gender', 'DOB', 'Address', 'ModifiedDate', 'source',\n",
       "       'unified_patient_id'],\n",
       "      dtype='object')"
      ]
     },
     "execution_count": 33,
     "metadata": {},
     "output_type": "execute_result"
    }
   ],
   "source": [
    "patient_df.columns"
   ]
  },
  {
   "cell_type": "code",
   "execution_count": 32,
   "id": "36d30267",
   "metadata": {},
   "outputs": [],
   "source": [
    "# Clean & Format Phone Numbers\n",
    "\n",
    "import re\n",
    "\n",
    "def clean_phone_number(number):\n",
    "    # Remove extension if present\n",
    "    number = re.sub(r'x\\d+', '', number)\n",
    "    \n",
    "    # Remove non-digit characters\n",
    "    digits = re.sub(r'\\D', '', number)\n",
    "    \n",
    "    # Handle leading country code (assuming US, 1)\n",
    "    if digits.startswith(\"001\"):\n",
    "        digits = digits[3:]\n",
    "    elif digits.startswith(\"1\") and len(digits) > 10:\n",
    "        digits = digits[1:]\n",
    "    \n",
    "    # Format as (XXX) XXX-XXXX if 10 digits\n",
    "    if len(digits) == 10:\n",
    "        return f\"({digits[:3]}) {digits[3:6]}-{digits[6:]}\"\n",
    "    else:\n",
    "        return None  # Or return digits if you want to keep it\n",
    "\n",
    "# Example usage\n",
    "patient_df[\"PhoneNumber\"] = patient_df[\"PhoneNumber\"].apply(clean_phone_number)\n"
   ]
  },
  {
   "cell_type": "code",
   "execution_count": 34,
   "id": "c147ee77",
   "metadata": {},
   "outputs": [
    {
     "data": {
      "text/plain": [
       "0       (630) 829-7585\n",
       "1       (456) 746-7289\n",
       "2       (522) 501-5461\n",
       "3       (345) 608-9409\n",
       "4       (963) 994-2969\n",
       "             ...      \n",
       "9980    (752) 327-3814\n",
       "9981    (987) 393-8874\n",
       "9982    (648) 293-8022\n",
       "9983    (202) 943-9539\n",
       "9984    (316) 603-3639\n",
       "Name: PhoneNumber, Length: 9985, dtype: object"
      ]
     },
     "execution_count": 34,
     "metadata": {},
     "output_type": "execute_result"
    }
   ],
   "source": [
    "patient_df[\"PhoneNumber\"]\n"
   ]
  },
  {
   "cell_type": "code",
   "execution_count": 35,
   "id": "96321e9d",
   "metadata": {},
   "outputs": [
    {
     "data": {
      "text/html": [
       "<div>\n",
       "<style scoped>\n",
       "    .dataframe tbody tr th:only-of-type {\n",
       "        vertical-align: middle;\n",
       "    }\n",
       "\n",
       "    .dataframe tbody tr th {\n",
       "        vertical-align: top;\n",
       "    }\n",
       "\n",
       "    .dataframe thead th {\n",
       "        text-align: right;\n",
       "    }\n",
       "</style>\n",
       "<table border=\"1\" class=\"dataframe\">\n",
       "  <thead>\n",
       "    <tr style=\"text-align: right;\">\n",
       "      <th></th>\n",
       "      <th>PatientID</th>\n",
       "      <th>FirstName</th>\n",
       "      <th>LastName</th>\n",
       "      <th>MiddleName</th>\n",
       "      <th>SSN</th>\n",
       "      <th>PhoneNumber</th>\n",
       "      <th>Gender</th>\n",
       "      <th>DOB</th>\n",
       "      <th>Address</th>\n",
       "      <th>ModifiedDate</th>\n",
       "      <th>source</th>\n",
       "      <th>unified_patient_id</th>\n",
       "    </tr>\n",
       "  </thead>\n",
       "  <tbody>\n",
       "    <tr>\n",
       "      <th>0</th>\n",
       "      <td>HOSP1-000001</td>\n",
       "      <td>Rick</td>\n",
       "      <td>Russo</td>\n",
       "      <td>U</td>\n",
       "      <td>188-23-9828</td>\n",
       "      <td>(630) 829-7585</td>\n",
       "      <td>Female</td>\n",
       "      <td>1937-06-04</td>\n",
       "      <td>Unit 0915 Box 7064, DPO AA 82777</td>\n",
       "      <td>2020-05-25</td>\n",
       "      <td>hospital_a</td>\n",
       "      <td>HOSP_A_HOSP1-000001</td>\n",
       "    </tr>\n",
       "    <tr>\n",
       "      <th>1</th>\n",
       "      <td>HOSP1-000002</td>\n",
       "      <td>Gregory</td>\n",
       "      <td>Graham</td>\n",
       "      <td>B</td>\n",
       "      <td>730-45-8217</td>\n",
       "      <td>(456) 746-7289</td>\n",
       "      <td>Female</td>\n",
       "      <td>1937-06-10</td>\n",
       "      <td>9864 Gibson Islands, Danielside, KY 99809</td>\n",
       "      <td>2021-06-05</td>\n",
       "      <td>hospital_a</td>\n",
       "      <td>HOSP_A_HOSP1-000002</td>\n",
       "    </tr>\n",
       "  </tbody>\n",
       "</table>\n",
       "</div>"
      ],
      "text/plain": [
       "      PatientID FirstName LastName MiddleName          SSN     PhoneNumber  \\\n",
       "0  HOSP1-000001      Rick    Russo          U  188-23-9828  (630) 829-7585   \n",
       "1  HOSP1-000002   Gregory   Graham          B  730-45-8217  (456) 746-7289   \n",
       "\n",
       "   Gender         DOB                                    Address ModifiedDate  \\\n",
       "0  Female  1937-06-04           Unit 0915 Box 7064, DPO AA 82777   2020-05-25   \n",
       "1  Female  1937-06-10  9864 Gibson Islands, Danielside, KY 99809   2021-06-05   \n",
       "\n",
       "       source   unified_patient_id  \n",
       "0  hospital_a  HOSP_A_HOSP1-000001  \n",
       "1  hospital_a  HOSP_A_HOSP1-000002  "
      ]
     },
     "execution_count": 35,
     "metadata": {},
     "output_type": "execute_result"
    }
   ],
   "source": [
    "patient_df.head(2)"
   ]
  },
  {
   "cell_type": "code",
   "execution_count": 38,
   "id": "0ab8a02e",
   "metadata": {},
   "outputs": [
    {
     "name": "stdout",
     "output_type": "stream",
     "text": [
      "Email column is not found\n"
     ]
    }
   ],
   "source": [
    "# validate email address\n",
    "\n",
    "email_pattern = r'^[\\w\\.-]+@[\\w\\.-]+\\.\\w+$'\n",
    "\n",
    "def is_valid_email(email):\n",
    "    return bool(re.match(email_pattern, str(email))) if pd.notnull(email) else False\n",
    "\n",
    "if \"Email\" in patient_df.columns:\n",
    "    patient_df[\"Email\"] = patient_df[\"Email\"].apply(is_valid_email)\n",
    "else:\n",
    "    print(\"Email column is not found\")"
   ]
  },
  {
   "cell_type": "code",
   "execution_count": 40,
   "id": "f4222b4b",
   "metadata": {},
   "outputs": [],
   "source": [
    "# Compute DQ flag\n",
    "patient_df[\"dq_flag\"] = (\n",
    "    patient_df[\"PhoneNumber\"].isnull() |\n",
    "    patient_df[\"DOB\"].isnull() |\n",
    "    (patient_df[\"Gender\"].isnull()) \n",
    ")"
   ]
  },
  {
   "cell_type": "code",
   "execution_count": 43,
   "id": "52b2cdb0",
   "metadata": {},
   "outputs": [
    {
     "data": {
      "text/plain": [
       "0       False\n",
       "1       False\n",
       "2       False\n",
       "3       False\n",
       "4       False\n",
       "        ...  \n",
       "9980    False\n",
       "9981    False\n",
       "9982    False\n",
       "9983    False\n",
       "9984    False\n",
       "Name: dq_flag, Length: 9985, dtype: bool"
      ]
     },
     "execution_count": 43,
     "metadata": {},
     "output_type": "execute_result"
    }
   ],
   "source": [
    "patient_df[\"dq_flag\"]==True"
   ]
  },
  {
   "cell_type": "code",
   "execution_count": 44,
   "id": "b1579bb1",
   "metadata": {},
   "outputs": [],
   "source": [
    "##  Task 3.2: Business Logic Implementation"
   ]
  },
  {
   "cell_type": "code",
   "execution_count": null,
   "id": "e158ccde",
   "metadata": {},
   "outputs": [],
   "source": [
    "# Calculate Patient Age from DOB\n",
    "\n",
    "\n",
    "from datetime import datetime\n",
    "\n",
    "today = pd.to_datetime(\"today\")\n",
    "patient_df[\"DOB\"] = pd.to_datetime(patient_df[\"DOB\"], errors=\"coerce\")\n",
    "patient_df[\"age\"] = patient_df[\"DOB\"].apply(lambda dob: int((today - dob).days / 365.25) if pd.notnull(dob) else None)\n",
    "\n"
   ]
  },
  {
   "cell_type": "code",
   "execution_count": 48,
   "id": "7cfd80de",
   "metadata": {},
   "outputs": [
    {
     "data": {
      "text/plain": [
       "0       88\n",
       "1       88\n",
       "2       98\n",
       "3       53\n",
       "4       97\n",
       "        ..\n",
       "9980    90\n",
       "9981    57\n",
       "9982    28\n",
       "9983    78\n",
       "9984    48\n",
       "Name: age, Length: 9985, dtype: int64"
      ]
     },
     "execution_count": 48,
     "metadata": {},
     "output_type": "execute_result"
    }
   ],
   "source": [
    "patient_df[\"age\"]"
   ]
  },
  {
   "cell_type": "code",
   "execution_count": 49,
   "id": "06163ab0",
   "metadata": {},
   "outputs": [],
   "source": [
    "# Compute Insurance Coverage Percentages\n",
    "\n",
    "transaction_df[\"Amount\"] = pd.to_numeric(transaction_df[\"Amount\"], errors=\"coerce\")\n",
    "transaction_df[\"PaidAmount\"] = pd.to_numeric(transaction_df[\"PaidAmount\"], errors=\"coerce\")\n",
    "\n",
    "transaction_df[\"coverage_pct\"] = (\n",
    "    transaction_df[\"PaidAmount\"] / transaction_df[\"Amount\"]\n",
    ").round(2)\n"
   ]
  },
  {
   "cell_type": "code",
   "execution_count": 50,
   "id": "2693bf45",
   "metadata": {},
   "outputs": [
    {
     "data": {
      "text/plain": [
       "0        0.32\n",
       "1        2.29\n",
       "2        6.51\n",
       "3        0.55\n",
       "4        0.42\n",
       "         ... \n",
       "19995    0.08\n",
       "19996    0.21\n",
       "19997    0.33\n",
       "19998    0.52\n",
       "19999    0.25\n",
       "Name: coverage_pct, Length: 20000, dtype: float64"
      ]
     },
     "execution_count": 50,
     "metadata": {},
     "output_type": "execute_result"
    }
   ],
   "source": [
    "transaction_df[\"coverage_pct\"]"
   ]
  },
  {
   "cell_type": "code",
   "execution_count": 51,
   "id": "4411103f",
   "metadata": {},
   "outputs": [],
   "source": [
    "# Categorize Payment Statuses\n",
    "\n",
    "def get_payment_status(row):\n",
    "    if pd.isna(row[\"PaidAmount\"]) or row[\"PaidAmount\"] == 0:\n",
    "        return \"Denied\"\n",
    "    elif row[\"PaidAmount\"] >= row[\"Amount\"]:\n",
    "        return \"Paid\"\n",
    "    elif row[\"PaidAmount\"] > 0 and row[\"PaidAmount\"] < row[\"Amount\"]:\n",
    "        return \"Partial\"\n",
    "    else:\n",
    "        return \"Pending\"\n",
    "\n",
    "transaction_df[\"payment_status\"] = transaction_df.apply(get_payment_status, axis=1)\n"
   ]
  },
  {
   "cell_type": "code",
   "execution_count": 52,
   "id": "f4edf227",
   "metadata": {},
   "outputs": [
    {
     "data": {
      "text/plain": [
       "0        Partial\n",
       "1           Paid\n",
       "2           Paid\n",
       "3        Partial\n",
       "4        Partial\n",
       "          ...   \n",
       "19995    Partial\n",
       "19996    Partial\n",
       "19997    Partial\n",
       "19998    Partial\n",
       "19999    Partial\n",
       "Name: payment_status, Length: 20000, dtype: object"
      ]
     },
     "execution_count": 52,
     "metadata": {},
     "output_type": "execute_result"
    }
   ],
   "source": [
    "transaction_df[\"payment_status\"]"
   ]
  },
  {
   "cell_type": "code",
   "execution_count": 53,
   "id": "7b593ed0",
   "metadata": {},
   "outputs": [],
   "source": [
    "# Add Time Dimensions from ServiceDate\n",
    "\n",
    "transaction_df[\"ServiceDate\"] = pd.to_datetime(transaction_df[\"ServiceDate\"], errors=\"coerce\")\n",
    "\n",
    "transaction_df[\"year\"] = transaction_df[\"ServiceDate\"].dt.year\n",
    "transaction_df[\"month\"] = transaction_df[\"ServiceDate\"].dt.month\n",
    "transaction_df[\"quarter\"] = transaction_df[\"ServiceDate\"].dt.quarter\n",
    "transaction_df[\"day_of_week\"] = transaction_df[\"ServiceDate\"].dt.day_name()\n",
    "\n"
   ]
  },
  {
   "cell_type": "code",
   "execution_count": 57,
   "id": "7680b13d",
   "metadata": {},
   "outputs": [
    {
     "data": {
      "text/plain": [
       "0        5\n",
       "1        9\n",
       "2        3\n",
       "3        2\n",
       "4        4\n",
       "        ..\n",
       "19995    3\n",
       "19996    5\n",
       "19997    3\n",
       "19998    1\n",
       "19999    3\n",
       "Name: month, Length: 20000, dtype: int32"
      ]
     },
     "execution_count": 57,
     "metadata": {},
     "output_type": "execute_result"
    }
   ],
   "source": [
    "transaction_df[\"month\"]"
   ]
  },
  {
   "cell_type": "code",
   "execution_count": null,
   "id": "f9e76371",
   "metadata": {},
   "outputs": [],
   "source": [
    "#Task 3.3: Common Data Model (CDM)"
   ]
  },
  {
   "cell_type": "code",
   "execution_count": 58,
   "id": "6f36b325",
   "metadata": {},
   "outputs": [
    {
     "data": {
      "text/plain": [
       "Index(['PatientID', 'FirstName', 'LastName', 'MiddleName', 'SSN',\n",
       "       'PhoneNumber', 'Gender', 'DOB', 'Address', 'ModifiedDate', 'source',\n",
       "       'unified_patient_id', 'dq_flag', 'age'],\n",
       "      dtype='object')"
      ]
     },
     "execution_count": 58,
     "metadata": {},
     "output_type": "execute_result"
    }
   ],
   "source": [
    "\n",
    "patient_df.columns\n"
   ]
  },
  {
   "cell_type": "code",
   "execution_count": 59,
   "id": "afcdc4bf",
   "metadata": {},
   "outputs": [],
   "source": [
    "# Standardize Procedure Codes and Descriptions\n",
    "\n",
    "transaction_df[\"ProcedureCode\"] = transaction_df[\"ProcedureCode\"].astype(str).str.upper().str.strip()\n"
   ]
  },
  {
   "cell_type": "code",
   "execution_count": 60,
   "id": "e20993ba",
   "metadata": {},
   "outputs": [
    {
     "data": {
      "text/plain": [
       "0        94521\n",
       "1        51588\n",
       "2        32053\n",
       "3        21422\n",
       "4        39210\n",
       "         ...  \n",
       "19995    31940\n",
       "19996    41380\n",
       "19997    43643\n",
       "19998    83762\n",
       "19999    99441\n",
       "Name: ProcedureCode, Length: 20000, dtype: object"
      ]
     },
     "execution_count": 60,
     "metadata": {},
     "output_type": "execute_result"
    }
   ],
   "source": [
    "transaction_df[\"ProcedureCode\"]"
   ]
  },
  {
   "cell_type": "code",
   "execution_count": null,
   "id": "56a786de",
   "metadata": {},
   "outputs": [],
   "source": []
  }
 ],
 "metadata": {
  "kernelspec": {
   "display_name": "rcm_env",
   "language": "python",
   "name": "python3"
  },
  "language_info": {
   "codemirror_mode": {
    "name": "ipython",
    "version": 3
   },
   "file_extension": ".py",
   "mimetype": "text/x-python",
   "name": "python",
   "nbconvert_exporter": "python",
   "pygments_lexer": "ipython3",
   "version": "3.10.18"
  }
 },
 "nbformat": 4,
 "nbformat_minor": 5
}
